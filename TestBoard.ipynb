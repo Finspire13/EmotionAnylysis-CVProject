{
 "cells": [
  {
   "cell_type": "code",
   "execution_count": 13,
   "metadata": {
    "collapsed": false
   },
   "outputs": [
    {
     "name": "stdout",
     "output_type": "stream",
     "text": [
      "213\n",
      "213\n",
      "213\n"
     ]
    }
   ],
   "source": [
    "from extractLBP import LocalBinaryPatterns\n",
    "from sklearn import svm\n",
    "from skimage.feature import hog\n",
    "import os\n",
    "import cv2\n",
    "import numpy as np\n",
    " \n",
    "face_cascade = cv2.CascadeClassifier('haarcascade_frontalface_alt.xml')\n",
    "eye_cascade = cv2.CascadeClassifier('haarcascade_eye_tree_eyeglasses.xml') \n",
    "# initialize the local binary patterns descriptor along with\n",
    "# the data and label lists\n",
    "desc = LocalBinaryPatterns(24, 8)\n",
    "data = []\n",
    "sortedLabels = []\n",
    "classLabels=[]\n",
    "\n",
    "labelFile=open('data/label.txt')\n",
    "rawLabels={}\n",
    "for line in labelFile:\n",
    "    lineWithoutN=line.split('\\n')[0];\n",
    "    elements=lineWithoutN.split(' ');\n",
    "    strTemp=elements[-1]\n",
    "    imageName=strTemp[:2]+\".\"+strTemp[3:]\n",
    "    rawLabels[imageName]=elements[1:-1]\n",
    "\n",
    "\n",
    "# loop over the training images\n",
    "for imagePath in os.listdir('data/jaffe'):\n",
    "\t# load the image, convert it to grayscale, and describe it\n",
    "    if imagePath!=\".DS_Store\":\n",
    "        image = cv2.imread('data/jaffe/'+imagePath)\n",
    "        gray = cv2.cvtColor(image, cv2.COLOR_BGR2GRAY)\n",
    "        \n",
    "        faces = face_cascade.detectMultiScale(gray, 1.3, 5)\n",
    "        for (x,y,w,h) in faces:\n",
    "            roi_gray = gray[y:y+h, x:x+w]\n",
    "            roi_gray = cv2.resize(roi_gray,(256, 256), interpolation = cv2.INTER_CUBIC)\n",
    "\n",
    "        imageFeatures=[]\n",
    "        for i in range(4):\n",
    "            for j in range(4):\n",
    "                patch=roi_gray[i*64:(i+1)*64,j*64:(j+1)*64]\n",
    "                fd, hog_image = hog(patch, orientations=8, pixels_per_cell=(16, 16),cells_per_block=(1, 1), visualise=True)\n",
    "                imageFeatures.extend(fd)\n",
    "                #hist = desc.describe(patch)\n",
    "                #imageFeatures.extend(hist)\n",
    "        \n",
    "        #hist = desc.describe(gray)\n",
    "        data.append(imageFeatures)\n",
    "        \n",
    "        # extract the label from the image path, then update the\n",
    "        # label and data lists\n",
    "        sortedLabels.append(rawLabels[imagePath[:6]])\n",
    "        \n",
    "        #data.append(hist)\n",
    "        \n",
    "        \n",
    "        classLabels.append(np.argmax([float(x) for x in rawLabels[imagePath[:6]]]))\n",
    "\n",
    "print len(sortedLabels)\n",
    "print len(data)\n",
    "print len(classLabels)\n",
    "\n"
   ]
  },
  {
   "cell_type": "code",
   "execution_count": 14,
   "metadata": {
    "collapsed": false
   },
   "outputs": [
    {
     "name": "stdout",
     "output_type": "stream",
     "text": [
      "(213, 2048)\n",
      "[[ 1.43278834  0.58591762 -0.56785207 ...,  0.49177752  0.11646622\n",
      "  -0.84749926]\n",
      " [-1.09956078 -0.46596629  1.19600935 ...,  1.11145717 -0.67339349\n",
      "  -0.61556197]\n",
      " [-0.77616371 -0.81127138  0.39102036 ..., -0.78938302  0.0480579\n",
      "  -0.72080338]\n",
      " ..., \n",
      " [-0.03340694 -0.74712545 -0.24780702 ..., -0.65418602  0.4232344\n",
      "   0.15685736]\n",
      " [ 0.45987751 -0.68458476 -0.55023377 ..., -0.99455788 -0.32029269\n",
      "  -1.29280612]\n",
      " [ 1.08972482 -0.47750805 -0.83435895 ..., -0.43827931  0.63383734\n",
      "  -0.71217733]]\n",
      "[3, 3, 4, 4, 4, 4, 5, 4, 2, 2, 0, 0, 0, 0, 0, 0, 0, 1, 1, 1, 2, 2, 2, 3, 3, 4, 4, 4, 4, 4, 4, 4, 4, 0, 0, 0, 2, 1, 2, 1, 1, 1, 2, 2, 2, 3, 3, 3, 4, 4, 4, 5, 4, 0, 0, 0, 0, 0, 0, 0, 1, 1, 1, 1, 2, 2, 2, 3, 3, 3, 4, 4, 3, 2, 2, 2, 0, 0, 3, 3, 3, 1, 1, 1, 2, 2, 2, 3, 4, 4, 4, 4, 4, 5, 2, 5, 0, 0, 0, 0, 0, 0, 1, 1, 1, 2, 2, 2, 3, 3, 3, 4, 4, 3, 2, 5, 5, 0, 0, 0, 0, 0, 0, 1, 1, 3, 0, 2, 2, 0, 3, 4, 4, 4, 5, 2, 2, 0, 0, 0, 0, 0, 0, 1, 1, 1, 2, 2, 2, 3, 3, 3, 4, 4, 4, 4, 4, 4, 0, 0, 0, 0, 0, 0, 1, 1, 1, 2, 2, 2, 3, 3, 3, 4, 4, 4, 1, 1, 1, 0, 0, 0, 0, 1, 1, 1, 1, 1, 2, 2, 2, 3, 3, 3, 4, 4, 4, 1, 5, 1, 2, 0, 0, 0, 1, 0, 0, 1, 1, 1, 2, 2, 2]\n"
     ]
    }
   ],
   "source": [
    "from sklearn.decomposition import PCA\n",
    "import numpy as np\n",
    "data=np.array(data)\n",
    "print data.shape\n",
    "\n",
    "for i in range(data.shape[1]):\n",
    "    feature=data[:,i]\n",
    "    feature-=np.mean(feature)\n",
    "    feature/=np.sqrt(np.var(feature))\n",
    "    data[:,i]=feature\n",
    "\n",
    "#print data\n",
    "\n",
    "pca = PCA(n_components=200)\n",
    "pca.fit(data)\n",
    "newData=pca.fit_transform(data)\n",
    "\n",
    "#print np.array(newData).shape\n",
    "#print newData\n",
    "\n",
    "print data\n",
    "print classLabels"
   ]
  },
  {
   "cell_type": "code",
   "execution_count": 16,
   "metadata": {
    "collapsed": false
   },
   "outputs": [
    {
     "name": "stdout",
     "output_type": "stream",
     "text": [
      "[ 0.58333333  0.54166667  0.46376812]\n",
      "0.529589371981\n",
      "0.985915492958\n"
     ]
    }
   ],
   "source": [
    "from sklearn.cross_validation import cross_val_score\n",
    "from sklearn.ensemble import AdaBoostClassifier\n",
    "from sklearn.linear_model import SGDClassifier\n",
    "#clf = svm.SVC(probability=True,decision_function_shape='ovo')\n",
    "#clf.fit(data, classLabels) \n",
    "#print clf.score(data,classLabels)\n",
    "\n",
    "#clf2 = svm.SVC(decision_function_shape='ovo',probability=False)\n",
    "#clf2.fit(data, classLabels) \n",
    "#print clf2.score(data,classLabels) sci-kit-learn\n",
    "\n",
    "#clf=AdaBoostClassifier(svm.SVC(probability=True, kernel='linear'), algorithm='SAMME',n_estimators=200)\n",
    "clf = svm.SVC(decision_function_shape='ovo')\n",
    "scores = cross_val_score(clf, data, classLabels)\n",
    "print scores\n",
    "print np.mean(scores)\n",
    "clf.fit(data,classLabels)\n",
    "print clf.score(data,classLabels)"
   ]
  },
  {
   "cell_type": "code",
   "execution_count": 8,
   "metadata": {
    "collapsed": false
   },
   "outputs": [
    {
     "name": "stdout",
     "output_type": "stream",
     "text": [
      "(128, 128)\n"
     ]
    }
   ],
   "source": [
    "import numpy as np\n",
    "import cv2\n",
    "face_cascade = cv2.CascadeClassifier('haarcascade_frontalface_alt.xml')\n",
    "eye_cascade = cv2.CascadeClassifier('haarcascade_eye_tree_eyeglasses.xml') \n",
    "img = cv2.imread('data/jaffe/KA.AN1.39.tiff')\n",
    "gray = cv2.cvtColor(img, cv2.COLOR_BGR2GRAY)\n",
    "\n",
    "faces = face_cascade.detectMultiScale(gray, 1.3, 5)\n",
    "for (x,y,w,h) in faces:\n",
    "    roi_gray = gray[y:y+h, x:x+w]\n",
    "    roi_gray = cv2.resize(roi_gray,(128, 128), interpolation = cv2.INTER_CUBIC)\n",
    "\n",
    "print roi_gray.shape\n",
    "cv2.imshow('img',roi_gray)\n",
    "cv2.waitKey(0)\n",
    "cv2.destroyAllWindows()"
   ]
  }
 ],
 "metadata": {
  "kernelspec": {
   "display_name": "Python 2",
   "language": "python",
   "name": "python2"
  },
  "language_info": {
   "codemirror_mode": {
    "name": "ipython",
    "version": 2
   },
   "file_extension": ".py",
   "mimetype": "text/x-python",
   "name": "python",
   "nbconvert_exporter": "python",
   "pygments_lexer": "ipython2",
   "version": "2.7.11"
  }
 },
 "nbformat": 4,
 "nbformat_minor": 0
}
