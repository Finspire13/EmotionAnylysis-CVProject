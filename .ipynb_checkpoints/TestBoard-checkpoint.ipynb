{
 "cells": [
  {
   "cell_type": "code",
   "execution_count": 3,
   "metadata": {
    "collapsed": false
   },
   "outputs": [
    {
     "name": "stdout",
     "output_type": "stream",
     "text": [
      "213\n",
      "213\n",
      "213\n"
     ]
    }
   ],
   "source": [
    "from extractLBP import LocalBinaryPatterns\n",
    "from sklearn import svm\n",
    "import os\n",
    "import cv2\n",
    "import numpy as np\n",
    " \n",
    "# initialize the local binary patterns descriptor along with\n",
    "# the data and label lists\n",
    "desc = LocalBinaryPatterns(24, 8)\n",
    "data = []\n",
    "sortedLabels = []\n",
    "classLabels=[]\n",
    "\n",
    "labelFile=open('data/label.txt')\n",
    "rawLabels={}\n",
    "for line in labelFile:\n",
    "    lineWithoutN=line.split('\\n')[0];\n",
    "    elements=lineWithoutN.split(' ');\n",
    "    strTemp=elements[-1]\n",
    "    imageName=strTemp[:2]+\".\"+strTemp[3:]\n",
    "    rawLabels[imageName]=elements[1:-1]\n",
    "\n",
    "\n",
    "# loop over the training images\n",
    "for imagePath in os.listdir('data/jaffe'):\n",
    "\t# load the image, convert it to grayscale, and describe it\n",
    "    if imagePath!=\".DS_Store\":\n",
    "        image = cv2.imread('data/jaffe/'+imagePath)\n",
    "        gray = cv2.cvtColor(image, cv2.COLOR_BGR2GRAY)\n",
    "        hist = desc.describe(gray)\n",
    "        # extract the label from the image path, then update the\n",
    "        # label and data lists\n",
    "        sortedLabels.append(rawLabels[imagePath[:6]])\n",
    "        data.append(hist)\n",
    "        \n",
    "        classLabels.append(np.argmax([float(x) for x in rawLabels[imagePath[:6]]]))\n",
    "\n",
    "print len(sortedLabels)\n",
    "print len(data)\n",
    "print len(classLabels)\n",
    "\n"
   ]
  },
  {
   "cell_type": "code",
   "execution_count": 12,
   "metadata": {
    "collapsed": false
   },
   "outputs": [
    {
     "name": "stdout",
     "output_type": "stream",
     "text": [
      "(213, 26)\n",
      "[[ 0.19999519 -0.13983477 -0.83099617 ...,  0.96795765 -0.60824911\n",
      "   0.53315645]\n",
      " [-0.76049361 -0.72051334 -0.58380799 ...,  0.6227455  -0.71333562\n",
      "   1.33800337]\n",
      " [-0.95951381 -0.47022085 -0.1821272  ...,  0.25372562 -0.72793096\n",
      "   0.65204233]\n",
      " ..., \n",
      " [-0.36245321  0.15050451 -0.49111242 ..., -3.37100195  4.24616346\n",
      "  -1.43319506]\n",
      " [ 0.49419897  0.05038752 -0.61470651 ..., -0.09743846  1.23368374\n",
      "  -0.68095251]\n",
      " [ 0.36440319  0.500914   -0.04308385 ..., -1.41876772  2.29622503\n",
      "  -0.61256682]]\n"
     ]
    }
   ],
   "source": [
    "import numpy as np\n",
    "data=np.array(data)\n",
    "print data.shape\n",
    "\n",
    "for i in range(data.shape[1]):\n",
    "    feature=data[:,i]\n",
    "    feature-=np.mean(feature)\n",
    "    feature/=np.sqrt(np.var(feature))\n",
    "    data[:,i]=feature\n",
    "\n",
    "print data"
   ]
  },
  {
   "cell_type": "code",
   "execution_count": 13,
   "metadata": {
    "collapsed": false
   },
   "outputs": [
    {
     "name": "stdout",
     "output_type": "stream",
     "text": [
      "[ 0.19444444  0.30555556  0.23188406]\n",
      "0.333333333333\n"
     ]
    }
   ],
   "source": [
    "from sklearn.cross_validation import cross_val_score\n",
    "from sklearn.ensemble import AdaBoostClassifier\n",
    "from sklearn.linear_model import SGDClassifier\n",
    "#clf = svm.SVC(probability=True,decision_function_shape='ovo')\n",
    "#clf.fit(data, classLabels) \n",
    "#print clf.score(data,classLabels)\n",
    "\n",
    "#clf2 = svm.SVC(decision_function_shape='ovo',probability=False)\n",
    "#clf2.fit(data, classLabels) \n",
    "#print clf2.score(data,classLabels) sci-kit-learn\n",
    "\n",
    "adaClf=AdaBoostClassifier(svm.SVC(probability=True, kernel='linear'), algorithm='SAMME',n_estimators=200)\n",
    "scores = cross_val_score(adaClf, data, classLabels)\n",
    "print scores\n",
    "adaClf.fit(data,classLabels)\n",
    "print adaClf.score(data,classLabels)"
   ]
  },
  {
   "cell_type": "code",
   "execution_count": null,
   "metadata": {
    "collapsed": true
   },
   "outputs": [],
   "source": [
    "hapLabels = [float(x[0]) for x in sortedLabels]\n",
    "hapRegressor=svm.SVR()\n",
    "hapRegressor.fit(data,hapLabels)\n",
    "\n",
    "sadLabels = [float(x[1]) for x in sortedLabels]\n",
    "sadRegressor=svm.SVR()\n",
    "sadRegressor.fit(data,sadLabels)\n",
    "\n",
    "surLabels = [float(x[2]) for x in sortedLabels]\n",
    "surRegressor=svm.SVR()\n",
    "surRegressor.fit(data,surLabels)\n",
    "\n",
    "angLabels = [float(x[3]) for x in sortedLabels]\n",
    "angRegressor=svm.SVR()\n",
    "angRegressor.fit(data,angLabels)\n",
    "\n",
    "disLabels = [float(x[4]) for x in sortedLabels]\n",
    "disRegressor=svm.SVR()\n",
    "disRegressor.fit(data,disLabels)\n",
    "\n",
    "feaLabels = [float(x[5]) for x in sortedLabels]\n",
    "feaRegressor=svm.SVR()\n",
    "feaRegressor.fit(data,feaLabels)\n",
    "\n",
    "\n",
    "face_cascade = cv2.CascadeClassifier('haarcascade_frontalface_alt.xml')\n",
    "\n",
    "cap = cv2.VideoCapture(0)\n",
    "\n",
    "while(True):\n",
    "\n",
    "    ret,frame = cap.read()\n",
    "    #gray = cv2.cvtColor(frame, cv2.COLOR_BGR2GRAY)\n",
    "    #faces = face_cascade.detectMultiScale(gray, 1.3, 5)\n",
    "    #for (x,y,w,h) in faces:\n",
    "    #    roi_gray = gray[y:y+h, x:x+w]\n",
    "    #    testData=[]\n",
    "    #    hist = desc.describe(roi_gray)\n",
    "    #    testData.append(hist)\n",
    "        \n",
    "    #    hap=hapRegressor.predict(testData)\n",
    "    #    sad=sadRegressor.predict(testData)\n",
    "    #    sur=surRegressor.predict(testData)\n",
    "    #    ang=angRegressor.predict(testData)\n",
    "    #    dis=disRegressor.predict(testData)\n",
    "    #    fea=feaRegressor.predict(testData)\n",
    "        \n",
    "        #hap=(hap-min(hap))*5/(max(hap)-min(hap)+0.01)\n",
    "        #sad=(sad-min(sad))*5/(max(sad)-min(sad)+0.01)\n",
    "        #sur=(sur-min(sur))*5/(max(sur)-min(sur)+0.01)\n",
    "        #ang=(ang-min(ang))*5/(max(ang)-min(ang)+0.01)\n",
    "        #dis=(dis-min(dis))*5/(max(dis)-min(dis)+0.01)\n",
    "        #fea=(fea-min(fea))*5/(max(fea)-min(fea)+0.01)\n",
    "    #    print \"hap: \"+str(hap)\n",
    "    #    print \"sad: \"+str(sad)\n",
    "    #    print \"sur: \"+str(sur)\n",
    "    #    print \"ang: \"+str(ang)\n",
    "    #    print \"dis: \"+str(dis)\n",
    "    #    print \"fea: \"+str(fea)\n",
    "        # Display the resulting frame\n",
    "    cv2.imshow('frame',frame)\n",
    "\n",
    "    if cv2.waitKey(1) & 0xFF == ord('q'):\n",
    "        break\n",
    "\n",
    "# When everything done, release the capture\n",
    "cap.release()\n",
    "cv2.destroyAllWindows()"
   ]
  },
  {
   "cell_type": "code",
   "execution_count": 17,
   "metadata": {
    "collapsed": false
   },
   "outputs": [],
   "source": [
    "from skimage import feature\n",
    "import numpy as np\n",
    "import cv2\n",
    " \n",
    "img = cv2.imread('example2.jpg')\n",
    "gray = cv2.cvtColor(img, cv2.COLOR_BGR2GRAY)\n",
    "lbp = feature.local_binary_pattern(gray,24,8, method=\"uniform\")\n",
    "    \n",
    "#img = cv2.imread('example2.jpg')\n",
    "#gray = cv2.cvtColor(img, cv2.COLOR_BGR2GRAY)\n",
    "lbp=np.array(lbp)\n",
    "lbp.astype(float)\n",
    "\n",
    "cv2.imshow('img',lbp/255)\n",
    "cv2.waitKey(0)\n",
    "cv2.destroyAllWindows()"
   ]
  },
  {
   "cell_type": "code",
   "execution_count": 12,
   "metadata": {
    "collapsed": false
   },
   "outputs": [
    {
     "name": "stdout",
     "output_type": "stream",
     "text": [
      "[[ 193.  193.  193. ...,  112.  112.  112.]\n",
      " [ 193.  193.  193. ...,  112.  112.  112.]\n",
      " [ 193.  193.  193. ...,  112.  112.  112.]\n",
      " ..., \n",
      " [   7.    7.    7. ...,   28.   28.   28.]\n",
      " [   7.    7.    7. ...,   28.   28.   28.]\n",
      " [   7.    7.    7. ...,   28.   28.   28.]]\n"
     ]
    }
   ],
   "source": [
    "print lbp"
   ]
  },
  {
   "cell_type": "code",
   "execution_count": 4,
   "metadata": {
    "collapsed": false
   },
   "outputs": [
    {
     "ename": "ValueError",
     "evalue": "The truth value of an array with more than one element is ambiguous. Use a.any() or a.all()",
     "output_type": "error",
     "traceback": [
      "\u001b[0;31m---------------------------------------------------------------------------\u001b[0m",
      "\u001b[0;31mValueError\u001b[0m                                Traceback (most recent call last)",
      "\u001b[0;32m<ipython-input-4-5154abec8df6>\u001b[0m in \u001b[0;36m<module>\u001b[0;34m()\u001b[0m\n\u001b[0;32m----> 1\u001b[0;31m \u001b[0mmax\u001b[0m\u001b[0;34m(\u001b[0m\u001b[0mlbp\u001b[0m\u001b[0;34m)\u001b[0m\u001b[0;34m\u001b[0m\u001b[0m\n\u001b[0m",
      "\u001b[0;31mValueError\u001b[0m: The truth value of an array with more than one element is ambiguous. Use a.any() or a.all()"
     ]
    }
   ],
   "source": [
    "max(lbp)"
   ]
  },
  {
   "cell_type": "code",
   "execution_count": 9,
   "metadata": {
    "collapsed": false
   },
   "outputs": [
    {
     "data": {
      "text/plain": [
       "0.0"
      ]
     },
     "execution_count": 9,
     "metadata": {},
     "output_type": "execute_result"
    }
   ],
   "source": [
    "np.min(lbp)"
   ]
  },
  {
   "cell_type": "code",
   "execution_count": 10,
   "metadata": {
    "collapsed": true
   },
   "outputs": [],
   "source": [
    "cv2.imshow('img',lbp)\n",
    "cv2.waitKey(0)\n",
    "cv2.destroyAllWindows()"
   ]
  },
  {
   "cell_type": "code",
   "execution_count": 1,
   "metadata": {
    "collapsed": false
   },
   "outputs": [
    {
     "data": {
      "text/plain": [
       "array([ 1.,  2.])"
      ]
     },
     "execution_count": 1,
     "metadata": {},
     "output_type": "execute_result"
    }
   ],
   "source": [
    "import numpy as np\n",
    "np.sqrt([1,4])"
   ]
  },
  {
   "cell_type": "code",
   "execution_count": null,
   "metadata": {
    "collapsed": true
   },
   "outputs": [],
   "source": []
  }
 ],
 "metadata": {
  "kernelspec": {
   "display_name": "Python 2",
   "language": "python",
   "name": "python2"
  },
  "language_info": {
   "codemirror_mode": {
    "name": "ipython",
    "version": 2
   },
   "file_extension": ".py",
   "mimetype": "text/x-python",
   "name": "python",
   "nbconvert_exporter": "python",
   "pygments_lexer": "ipython2",
   "version": "2.7.11"
  }
 },
 "nbformat": 4,
 "nbformat_minor": 0
}
