{
 "cells": [
  {
   "cell_type": "code",
   "execution_count": null,
   "metadata": {
    "collapsed": false
   },
   "outputs": [
    {
     "name": "stdout",
     "output_type": "stream",
     "text": [
      "Automatically created module for IPython interactive environment\n"
     ]
    },
    {
     "name": "stderr",
     "output_type": "stream",
     "text": [
      "//anaconda/lib/python2.7/site-packages/theano/tensor/signal/downsample.py:6: UserWarning: downsample module has been moved to the theano.tensor.signal.pool module.\n",
      "  \"downsample module has been moved to the theano.tensor.signal.pool module.\")\n"
     ]
    },
    {
     "name": "stdout",
     "output_type": "stream",
     "text": [
      "WARNING: Cannot get file size, displaying bytes instead!\n",
      "Downloading: /Users/apple/sklearn_theano_data/asirra/petimages.tar Bytes: 100\n"
     ]
    }
   ],
   "source": [
    "print(__doc__)\n",
    "\n",
    "from sklearn_theano.datasets import fetch_asirra\n",
    "from sklearn_theano.feature_extraction import OverfeatTransformer\n",
    "from sklearn_theano.utils import train_test_split\n",
    "from sklearn.linear_model import LogisticRegression\n",
    "from sklearn.pipeline import make_pipeline\n",
    "from sklearn.metrics import classification_report, accuracy_score\n",
    "import matplotlib.pyplot as plt\n",
    "import time\n",
    "\n",
    "asirra = fetch_asirra(image_count=20)\n",
    "X = asirra.images.astype('float32')\n",
    "y = asirra.target\n",
    "X_train, X_test, y_train, y_test = train_test_split(\n",
    "    X, y, train_size=.6, random_state=1999)\n",
    "tf = OverfeatTransformer(output_layers=[-3])\n",
    "clf = LogisticRegression()\n",
    "pipe = make_pipeline(tf, clf)\n",
    "t0 = time.time()\n",
    "pipe.fit(X_train, y_train)\n",
    "print(\"Total transform time\")\n",
    "print(\"====================\")\n",
    "print(time.time() - t0)\n",
    "print()\n",
    "y_pred = pipe.predict(X_test)\n",
    "print(classification_report(y_test, y_pred))\n",
    "print()\n",
    "print(\"Accuracy score\")\n",
    "print(\"==============\")\n",
    "print(accuracy_score(y_test, y_pred))\n",
    "f, axarr = plt.subplots(1, 2)\n",
    "axarr[0].imshow(asirra.images[asirra.target == 0][-1])\n",
    "axarr[0].axis('off')\n",
    "axarr[1].imshow(asirra.images[asirra.target == 1][0])\n",
    "axarr[1].axis('off')\n",
    "plt.show()"
   ]
  },
  {
   "cell_type": "code",
   "execution_count": 38,
   "metadata": {
    "collapsed": false
   },
   "outputs": [
    {
     "name": "stdout",
     "output_type": "stream",
     "text": [
      "(256, 256, 3)\n",
      "[[ 0.  0.  0. ...,  0.  0.  0.]]\n"
     ]
    }
   ],
   "source": [
    "import cv2\n",
    "from sklearn_theano.feature_extraction import OverfeatTransformer\n",
    "test=cv2.imread('example2.jpg')\n",
    "\n",
    "print test.shape\n",
    "tf = OverfeatTransformer(output_layers=[-2])\n",
    "features=tf.transform(test)\n",
    "print features"
   ]
  },
  {
   "cell_type": "code",
   "execution_count": 6,
   "metadata": {
    "collapsed": false
   },
   "outputs": [
    {
     "name": "stdout",
     "output_type": "stream",
     "text": [
      "0.123066\n"
     ]
    }
   ],
   "source": [
    "import numpy as np\n",
    "print np.mean(features)"
   ]
  },
  {
   "cell_type": "code",
   "execution_count": 41,
   "metadata": {
    "collapsed": false
   },
   "outputs": [
    {
     "name": "stdout",
     "output_type": "stream",
     "text": [
      "[ 0.  0.  0. ...,  0.  0.  0.]\n"
     ]
    }
   ],
   "source": [
    "print features[0]"
   ]
  },
  {
   "cell_type": "code",
   "execution_count": 1,
   "metadata": {
    "collapsed": false
   },
   "outputs": [
    {
     "name": "stdout",
     "output_type": "stream",
     "text": [
      "[[ 1.  2.  3.  7.  8.]\n",
      " [ 4.  5.  6.  0.  1.]\n",
      " [ 2.  3.  4.  3.  3.]\n",
      " [ 6.  8.  1.  9.  1.]]\n"
     ]
    }
   ],
   "source": [
    "import numpy as np\n",
    "x=[[1,2,3,7,8],[4,5,6,0,1],[2,3,4,3,3],[6,8,1,9,1]]\n",
    "x=np.array(x)\n",
    "x=x.astype(np.float64)\n",
    "print x"
   ]
  },
  {
   "cell_type": "code",
   "execution_count": 36,
   "metadata": {
    "collapsed": false
   },
   "outputs": [],
   "source": [
    "import mdp\n",
    "pcaNode=mdp.nodes.PCANode(output_dim=2)\n",
    "y=pcaNode.execute(x)"
   ]
  },
  {
   "cell_type": "code",
   "execution_count": 37,
   "metadata": {
    "collapsed": false
   },
   "outputs": [
    {
     "name": "stdout",
     "output_type": "stream",
     "text": [
      "[[ 1.02736841  6.15899905]\n",
      " [-4.77127714 -3.39866341]\n",
      " [-2.37607234  0.66505281]\n",
      " [ 6.11998107 -3.42538845]]\n"
     ]
    }
   ],
   "source": [
    "print y"
   ]
  },
  {
   "cell_type": "code",
   "execution_count": 2,
   "metadata": {
    "collapsed": false
   },
   "outputs": [
    {
     "name": "stdout",
     "output_type": "stream",
     "text": [
      "[ 3.25  4.5   3.5   4.75  3.25]\n"
     ]
    }
   ],
   "source": [
    "print x.mean(axis=0)"
   ]
  },
  {
   "cell_type": "code",
   "execution_count": 32,
   "metadata": {
    "collapsed": false
   },
   "outputs": [
    {
     "name": "stdout",
     "output_type": "stream",
     "text": [
      "[-1.70038679 -2.44850568  3.53644545 -6.74081551 -0.29820138]\n",
      "(5,)\n",
      "[-3.39488194 -3.83110528 -0.34131854  1.81851467  5.65983026]\n",
      "(5,)\n",
      "[ 0.57746114  0.57223442  0.61404823 -0.06641319  0.7920842 ]\n",
      "(5,)\n"
     ]
    }
   ],
   "source": [
    "def myPCA(data, dims_rescaled_data=2):\n",
    "    \"\"\"\n",
    "    returns: data transformed in 2 dims/columns + regenerated original data\n",
    "    pass in: data as 2D NumPy array\n",
    "    \"\"\"\n",
    "    import numpy as NP\n",
    "    from scipy import linalg as LA\n",
    "    n, p = data.shape\n",
    "    # mean center the data\n",
    "    data -= data.mean(axis=0)\n",
    "    # calculate the covariance matrix\n",
    "    R = NP.dot(data, data.T)\n",
    "    # calculate eigenvectors & eigenvalues of the covariance matrix\n",
    "    # use 'eigh' rather than 'eig' since R is symmetric, \n",
    "    # the performance gain is substantial\n",
    "    evals, evecs = LA.eigh(R)\n",
    "    # sort eigenvalue in decreasing order\n",
    "    idx = NP.argsort(evals)[::-1]\n",
    "    evecs = evecs[:,idx]\n",
    "    # sort eigenvectors according to same index\n",
    "    evals = evals[idx]\n",
    "    # select the first n eigenvectors (n is desired dimension\n",
    "    # of rescaled data array, or dims_rescaled_data)\n",
    "    evecs = evecs[:, :dims_rescaled_data]\n",
    "    real_evecs=NP.zeros(shape=(p,dims_rescaled_data))\n",
    "    for i in range(dims_rescaled_data):\n",
    "        real_evecs[:,i]=NP.dot(data.T, NP.array([evecs[:,i]]).T)[:,0]\n",
    "    # carry out the transformation on the data using eigenvectors\n",
    "    # and return the re-scaled data, eigenvalues, and eigenvectors\n",
    "    return NP.dot(real_evecs.T, data.T).T, evals, real_evecs\n",
    "\n",
    "\n",
    "newdata , eigenvalues , eigenvectors = myPCA(x,3)"
   ]
  },
  {
   "cell_type": "code",
   "execution_count": 13,
   "metadata": {
    "collapsed": false
   },
   "outputs": [
    {
     "name": "stdout",
     "output_type": "stream",
     "text": [
      "[[ 0.20785873 -0.43233834 -0.4468827 ]\n",
      " [ 0.2993103  -0.4878914  -0.44283787]\n",
      " [-0.43230226 -0.04346693 -0.47519653]\n",
      " [ 0.82401095  0.23158791  0.0513955 ]\n",
      " [ 0.03645274  0.72077959 -0.6129741 ]]\n"
     ]
    }
   ],
   "source": [
    "print eigenvectors"
   ]
  },
  {
   "cell_type": "code",
   "execution_count": 33,
   "metadata": {
    "collapsed": false
   },
   "outputs": [
    {
     "name": "stdout",
     "output_type": "stream",
     "text": [
      "[[-1.70038679 -3.39488194  0.57746114]\n",
      " [-2.44850568 -3.83110528  0.57223442]\n",
      " [ 3.53644545 -0.34131854  0.61404823]\n",
      " [-6.74081551  1.81851467 -0.06641319]\n",
      " [-0.29820138  5.65983026  0.7920842 ]]\n"
     ]
    }
   ],
   "source": [
    "print eigenvectors"
   ]
  },
  {
   "cell_type": "code",
   "execution_count": 34,
   "metadata": {
    "collapsed": false
   },
   "outputs": [
    {
     "name": "stdout",
     "output_type": "stream",
     "text": [
      "[[ -8.40437966e+00   4.83627586e+01   5.76072532e-01]\n",
      " [  3.90313974e+01  -2.66875732e+01   7.87606844e-01]\n",
      " [  1.94374422e+01   5.22224284e+00  -1.35495191e+00]\n",
      " [ -5.00644600e+01  -2.68974282e+01  -8.72746749e-03]]\n"
     ]
    }
   ],
   "source": [
    "print newdata"
   ]
  },
  {
   "cell_type": "code",
   "execution_count": null,
   "metadata": {
    "collapsed": true
   },
   "outputs": [],
   "source": []
  }
 ],
 "metadata": {
  "kernelspec": {
   "display_name": "Python 2",
   "language": "python",
   "name": "python2"
  },
  "language_info": {
   "codemirror_mode": {
    "name": "ipython",
    "version": 2
   },
   "file_extension": ".py",
   "mimetype": "text/x-python",
   "name": "python",
   "nbconvert_exporter": "python",
   "pygments_lexer": "ipython2",
   "version": "2.7.11"
  }
 },
 "nbformat": 4,
 "nbformat_minor": 0
}
